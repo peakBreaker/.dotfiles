{
 "cells": [
  {
   "cell_type": "code",
   "execution_count": null,
   "metadata": {},
   "outputs": [],
   "source": [
    "import pandas as pd"
   ]
  },
  {
   "cell_type": "markdown",
   "metadata": {},
   "source": [
    "### Transferring timedata to exportable data\n",
    "\n",
    "In this notebook we will be reading out the exported data from the timing system and turning them into exportable data"
   ]
  },
  {
   "cell_type": "code",
   "execution_count": null,
   "metadata": {},
   "outputs": [],
   "source": [
    "df = pd.read_csv('WORK.csv')\n",
    "df.index = pd.DatetimeIndex(df['Unnamed: 0'])\n",
    "df.info()"
   ]
  },
  {
   "cell_type": "code",
   "execution_count": null,
   "metadata": {},
   "outputs": [],
   "source": [
    "# Delete all non prc columns, we only need percentage of time spent.  Skip this step if we need actual time data\n",
    "[df.drop(c, 1, inplace=True) for c in df.columns if '_prc' not in c]\n",
    "df.head()"
   ]
  },
  {
   "cell_type": "code",
   "execution_count": null,
   "metadata": {},
   "outputs": [],
   "source": [
    "df.index # Check that we got the correct dates"
   ]
  },
  {
   "cell_type": "code",
   "execution_count": null,
   "metadata": {},
   "outputs": [],
   "source": [
    "df = df[df.index.dayofweek < 5] # Remove weekends\n",
    "df.tail()"
   ]
  },
  {
   "cell_type": "code",
   "execution_count": null,
   "metadata": {},
   "outputs": [],
   "source": [
    "df.columns"
   ]
  },
  {
   "cell_type": "code",
   "execution_count": null,
   "metadata": {},
   "outputs": [],
   "source": [
    "# Datastructure to funnel our dataframe to be exportable\n",
    "exp_c = {'Support': ['SUPPORT_prc'],\n",
    "         'Uplanlagt': ['INTERRUPT_prc', 'HOTFIX_prc'],\n",
    "         'Fag': ['LEARN&RESEARCH_prc'],\n",
    "         'Admin': ['MEETING_prc', 'STRAT&PLANNING_prc'],\n",
    "         'ADP: arkitektur': ['PLANNED_DEV_prc'],\n",
    "         'ADP: LLUIS': [],\n",
    "         'ADP: PPID': [],\n",
    "         'Annet ADP': ['BREAK_prc', 'OTHER_prc', 'UNACCOUNTED_prc'],\n",
    "         'Userdata': [],\n",
    "         'Agillic': [],\n",
    "         'Aria': [],\n",
    "         'Utfasing GA360': ['1-57-GA_prc'],\n",
    "         'Sikkerhet': [],\n",
    "         'GDPR': [],\n",
    "         'Videologging': [],\n",
    "         'Verktøy': ['TOOLS_prc'],\n",
    "         'Airflow Migrasjon': ['1-72-AIRFLOW_MIGRATION_prc'],\n",
    "         'DS Apper': ['DS1-9-ABTESTER_prc']\n",
    "         }\n",
    "exp_df = pd.DataFrame(columns=exp_c.keys(), index=pd.DatetimeIndex(df.index)).fillna(0.0)\n",
    "exp_df.head(1)"
   ]
  },
  {
   "cell_type": "code",
   "execution_count": null,
   "metadata": {},
   "outputs": [],
   "source": [
    "# Boil the raw datavalues to the exportable values\n",
    "for c in exp_c.keys():\n",
    "    for v in exp_c[c]:\n",
    "        exp_df[c] += (df[v]/100) if v in df else 0\n",
    "exp_df"
   ]
  },
  {
   "cell_type": "code",
   "execution_count": null,
   "metadata": {},
   "outputs": [],
   "source": [
    "exp_df.to_csv('WORK_EXPORT.csv')"
   ]
  }
 ],
 "metadata": {
  "kernelspec": {
   "display_name": "Python 3",
   "language": "python",
   "name": "python3"
  },
  "language_info": {
   "codemirror_mode": {
    "name": "ipython",
    "version": 3
   },
   "file_extension": ".py",
   "mimetype": "text/x-python",
   "name": "python",
   "nbconvert_exporter": "python",
   "pygments_lexer": "ipython3",
   "version": "3.7.2"
  }
 },
 "nbformat": 4,
 "nbformat_minor": 2
}
